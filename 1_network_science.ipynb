{
 "cells": [
  {
   "cell_type": "markdown",
   "metadata": {},
   "source": [
    "# [NTDS'19] assignment 1: network science\n",
    "[ntds'19]: https://github.com/mdeff/ntds_2019\n",
    "\n",
    "[Eda Bayram](https://lts4.epfl.ch/bayram), [EPFL LTS4](https://lts4.epfl.ch) and\n",
    "[Nikolaos Karalias](https://people.epfl.ch/nikolaos.karalias), [EPFL LTS2](https://lts2.epfl.ch)."
   ]
  },
  {
   "cell_type": "markdown",
   "metadata": {},
   "source": [
    "## Students\n",
    "\n",
    "* Team: `6`\n",
    "* Students: `Altinigne, Can Yilmaz`,`Banjac, Jelena`,`Kypraiou, Sofia`,`Sioulas, Panagiotis`"
   ]
  },
  {
   "cell_type": "markdown",
   "metadata": {},
   "source": [
    "## Rules\n",
    "\n",
    "Grading:\n",
    "* The first deadline is for individual submissions. The second deadline is for the team submission.\n",
    "* All team members will receive the same grade based on the team solution submitted on the second deadline.\n",
    "* As a fallback, a team can ask for individual grading. In that case, solutions submitted on the first deadline are graded.\n",
    "* Collaboration between team members is encouraged. No collaboration between teams is allowed.\n",
    "\n",
    "Submission:\n",
    "* Textual answers shall be short. Typically one to two sentences.\n",
    "* Code has to be clean.\n",
    "* You cannot import any other library than we imported.\n",
    "  Note that Networkx is imported in the second section and cannot be used in the first.\n",
    "* When submitting, the notebook is executed and the results are stored. I.e., if you open the notebook again it should show numerical results and plots. We won't be able to execute your notebooks.\n",
    "* The notebook is re-executed from a blank state before submission. That is to be sure it is reproducible. You can click \"Kernel\" then \"Restart Kernel and Run All Cells\" in Jupyter."
   ]
  },
  {
   "cell_type": "markdown",
   "metadata": {},
   "source": [
    "## Objective\n",
    "\n",
    "The purpose of this milestone is to explore a given dataset, represent it by network by constructing different graphs. In the first section, you will analyze the network properties. In the second section, you will explore various network models and find out the network model fitting the ones you construct from the dataset."
   ]
  },
  {
   "cell_type": "markdown",
   "metadata": {},
   "source": [
    "## Cora Dataset\n",
    "\n",
    "The [Cora dataset](https://linqs.soe.ucsc.edu/node/236) consists of scientific publications classified into one of seven research fields. \n",
    "\n",
    "* **Citation graph:** the citation network can be constructed from the connections given in the `cora.cites` file.\n",
    "* **Feature graph:** each publication in the dataset is described by a 0/1-valued word vector indicating the absence/presence of the corresponding word from the dictionary and its research field, given in the `cora.content` file. The dictionary consists of 1433 unique words. A feature graph can be constructed using the Euclidean distance between the feature vector of the publications.\n",
    "\n",
    "The [`README`](data/cora/README) provides details about the content of [`cora.cites`](data/cora/cora.cites) and [`cora.content`](data/cora/cora.content)."
   ]
  },
  {
   "cell_type": "markdown",
   "metadata": {},
   "source": [
    "## Section 1: Network Properties"
   ]
  },
  {
   "cell_type": "code",
   "execution_count": 1,
   "metadata": {},
   "outputs": [],
   "source": [
    "import numpy as np\n",
    "import pandas as pd\n",
    "from matplotlib import pyplot as plt\n",
    "\n",
    "%matplotlib inline"
   ]
  },
  {
   "cell_type": "markdown",
   "metadata": {},
   "source": [
    "### Question 1: Construct a Citation Graph and a Feature Graph"
   ]
  },
  {
   "cell_type": "markdown",
   "metadata": {},
   "source": [
    "Read the `cora.content` file into a Pandas DataFrame by setting a header for the column names. Check the `README` file."
   ]
  },
  {
   "cell_type": "code",
   "execution_count": 2,
   "metadata": {},
   "outputs": [
    {
     "data": {
      "text/html": [
       "<div>\n",
       "<style scoped>\n",
       "    .dataframe tbody tr th:only-of-type {\n",
       "        vertical-align: middle;\n",
       "    }\n",
       "\n",
       "    .dataframe tbody tr th {\n",
       "        vertical-align: top;\n",
       "    }\n",
       "\n",
       "    .dataframe thead th {\n",
       "        text-align: right;\n",
       "    }\n",
       "</style>\n",
       "<table border=\"1\" class=\"dataframe\">\n",
       "  <thead>\n",
       "    <tr style=\"text-align: right;\">\n",
       "      <th></th>\n",
       "      <th>paper_id</th>\n",
       "      <th>word_attribute_1</th>\n",
       "      <th>word_attribute_2</th>\n",
       "      <th>word_attribute_3</th>\n",
       "      <th>word_attribute_4</th>\n",
       "      <th>word_attribute_5</th>\n",
       "      <th>word_attribute_6</th>\n",
       "      <th>word_attribute_7</th>\n",
       "      <th>word_attribute_8</th>\n",
       "      <th>word_attribute_9</th>\n",
       "      <th>...</th>\n",
       "      <th>word_attribute_1425</th>\n",
       "      <th>word_attribute_1426</th>\n",
       "      <th>word_attribute_1427</th>\n",
       "      <th>word_attribute_1428</th>\n",
       "      <th>word_attribute_1429</th>\n",
       "      <th>word_attribute_1430</th>\n",
       "      <th>word_attribute_1431</th>\n",
       "      <th>word_attribute_1432</th>\n",
       "      <th>word_attribute_1433</th>\n",
       "      <th>class_label</th>\n",
       "    </tr>\n",
       "  </thead>\n",
       "  <tbody>\n",
       "    <tr>\n",
       "      <td>0</td>\n",
       "      <td>31336</td>\n",
       "      <td>0</td>\n",
       "      <td>0</td>\n",
       "      <td>0</td>\n",
       "      <td>0</td>\n",
       "      <td>0</td>\n",
       "      <td>0</td>\n",
       "      <td>0</td>\n",
       "      <td>0</td>\n",
       "      <td>0</td>\n",
       "      <td>...</td>\n",
       "      <td>0</td>\n",
       "      <td>0</td>\n",
       "      <td>1</td>\n",
       "      <td>0</td>\n",
       "      <td>0</td>\n",
       "      <td>0</td>\n",
       "      <td>0</td>\n",
       "      <td>0</td>\n",
       "      <td>0</td>\n",
       "      <td>Neural_Networks</td>\n",
       "    </tr>\n",
       "    <tr>\n",
       "      <td>1</td>\n",
       "      <td>1061127</td>\n",
       "      <td>0</td>\n",
       "      <td>0</td>\n",
       "      <td>0</td>\n",
       "      <td>0</td>\n",
       "      <td>0</td>\n",
       "      <td>0</td>\n",
       "      <td>0</td>\n",
       "      <td>0</td>\n",
       "      <td>0</td>\n",
       "      <td>...</td>\n",
       "      <td>0</td>\n",
       "      <td>1</td>\n",
       "      <td>0</td>\n",
       "      <td>0</td>\n",
       "      <td>0</td>\n",
       "      <td>0</td>\n",
       "      <td>0</td>\n",
       "      <td>0</td>\n",
       "      <td>0</td>\n",
       "      <td>Rule_Learning</td>\n",
       "    </tr>\n",
       "    <tr>\n",
       "      <td>2</td>\n",
       "      <td>1106406</td>\n",
       "      <td>0</td>\n",
       "      <td>0</td>\n",
       "      <td>0</td>\n",
       "      <td>0</td>\n",
       "      <td>0</td>\n",
       "      <td>0</td>\n",
       "      <td>0</td>\n",
       "      <td>0</td>\n",
       "      <td>0</td>\n",
       "      <td>...</td>\n",
       "      <td>0</td>\n",
       "      <td>0</td>\n",
       "      <td>0</td>\n",
       "      <td>0</td>\n",
       "      <td>0</td>\n",
       "      <td>0</td>\n",
       "      <td>0</td>\n",
       "      <td>0</td>\n",
       "      <td>0</td>\n",
       "      <td>Reinforcement_Learning</td>\n",
       "    </tr>\n",
       "    <tr>\n",
       "      <td>3</td>\n",
       "      <td>13195</td>\n",
       "      <td>0</td>\n",
       "      <td>0</td>\n",
       "      <td>0</td>\n",
       "      <td>0</td>\n",
       "      <td>0</td>\n",
       "      <td>0</td>\n",
       "      <td>0</td>\n",
       "      <td>0</td>\n",
       "      <td>0</td>\n",
       "      <td>...</td>\n",
       "      <td>0</td>\n",
       "      <td>0</td>\n",
       "      <td>0</td>\n",
       "      <td>0</td>\n",
       "      <td>0</td>\n",
       "      <td>0</td>\n",
       "      <td>0</td>\n",
       "      <td>0</td>\n",
       "      <td>0</td>\n",
       "      <td>Reinforcement_Learning</td>\n",
       "    </tr>\n",
       "    <tr>\n",
       "      <td>4</td>\n",
       "      <td>37879</td>\n",
       "      <td>0</td>\n",
       "      <td>0</td>\n",
       "      <td>0</td>\n",
       "      <td>0</td>\n",
       "      <td>0</td>\n",
       "      <td>0</td>\n",
       "      <td>0</td>\n",
       "      <td>0</td>\n",
       "      <td>0</td>\n",
       "      <td>...</td>\n",
       "      <td>0</td>\n",
       "      <td>0</td>\n",
       "      <td>0</td>\n",
       "      <td>0</td>\n",
       "      <td>0</td>\n",
       "      <td>0</td>\n",
       "      <td>0</td>\n",
       "      <td>0</td>\n",
       "      <td>0</td>\n",
       "      <td>Probabilistic_Methods</td>\n",
       "    </tr>\n",
       "  </tbody>\n",
       "</table>\n",
       "<p>5 rows × 1435 columns</p>\n",
       "</div>"
      ],
      "text/plain": [
       "   paper_id  word_attribute_1  word_attribute_2  word_attribute_3  \\\n",
       "0     31336                 0                 0                 0   \n",
       "1   1061127                 0                 0                 0   \n",
       "2   1106406                 0                 0                 0   \n",
       "3     13195                 0                 0                 0   \n",
       "4     37879                 0                 0                 0   \n",
       "\n",
       "   word_attribute_4  word_attribute_5  word_attribute_6  word_attribute_7  \\\n",
       "0                 0                 0                 0                 0   \n",
       "1                 0                 0                 0                 0   \n",
       "2                 0                 0                 0                 0   \n",
       "3                 0                 0                 0                 0   \n",
       "4                 0                 0                 0                 0   \n",
       "\n",
       "   word_attribute_8  word_attribute_9  ...  word_attribute_1425  \\\n",
       "0                 0                 0  ...                    0   \n",
       "1                 0                 0  ...                    0   \n",
       "2                 0                 0  ...                    0   \n",
       "3                 0                 0  ...                    0   \n",
       "4                 0                 0  ...                    0   \n",
       "\n",
       "   word_attribute_1426  word_attribute_1427  word_attribute_1428  \\\n",
       "0                    0                    1                    0   \n",
       "1                    1                    0                    0   \n",
       "2                    0                    0                    0   \n",
       "3                    0                    0                    0   \n",
       "4                    0                    0                    0   \n",
       "\n",
       "   word_attribute_1429  word_attribute_1430  word_attribute_1431  \\\n",
       "0                    0                    0                    0   \n",
       "1                    0                    0                    0   \n",
       "2                    0                    0                    0   \n",
       "3                    0                    0                    0   \n",
       "4                    0                    0                    0   \n",
       "\n",
       "   word_attribute_1432  word_attribute_1433             class_label  \n",
       "0                    0                    0         Neural_Networks  \n",
       "1                    0                    0           Rule_Learning  \n",
       "2                    0                    0  Reinforcement_Learning  \n",
       "3                    0                    0  Reinforcement_Learning  \n",
       "4                    0                    0   Probabilistic_Methods  \n",
       "\n",
       "[5 rows x 1435 columns]"
      ]
     },
     "execution_count": 2,
     "metadata": {},
     "output_type": "execute_result"
    }
   ],
   "source": [
    "column_list = ['paper_id'] + ['word_attribute_{}'.format(i) for i in range(1,1434)] + ['class_label']\n",
    "pd_content = pd.read_csv('data/cora/cora.content', delimiter='\\t', names=column_list) \n",
    "pd_content.head()"
   ]
  },
  {
   "cell_type": "markdown",
   "metadata": {},
   "source": [
    "Print out the number of papers contained in each of the reasearch fields.\n",
    "\n",
    "**Hint:** You can use the `value_counts()` function."
   ]
  },
  {
   "cell_type": "code",
   "execution_count": 3,
   "metadata": {},
   "outputs": [
    {
     "data": {
      "text/plain": [
       "Neural_Networks           818\n",
       "Probabilistic_Methods     426\n",
       "Genetic_Algorithms        418\n",
       "Theory                    351\n",
       "Case_Based                298\n",
       "Reinforcement_Learning    217\n",
       "Rule_Learning             180\n",
       "Name: class_label, dtype: int64"
      ]
     },
     "execution_count": 3,
     "metadata": {},
     "output_type": "execute_result"
    }
   ],
   "source": [
    "# Your code here.\n",
    "pd_content.class_label.value_counts()"
   ]
  },
  {
   "cell_type": "markdown",
   "metadata": {},
   "source": [
    "Select all papers from a field of your choice and store their feature vectors into a NumPy array.\n",
    "Check its shape."
   ]
  },
  {
   "cell_type": "code",
   "execution_count": 4,
   "metadata": {},
   "outputs": [
    {
     "data": {
      "text/plain": [
       "(818, 1433)"
      ]
     },
     "execution_count": 4,
     "metadata": {},
     "output_type": "execute_result"
    }
   ],
   "source": [
    "my_field = 'Neural_Networks'\n",
    "features = pd_content[pd_content['class_label'] == my_field].iloc[:,1:-1].values\n",
    "features.shape"
   ]
  },
  {
   "cell_type": "markdown",
   "metadata": {},
   "source": [
    "Let $D$ be the Euclidean distance matrix whose $(i,j)$ entry corresponds to the Euclidean distance between feature vectors $i$ and $j$.\n",
    "Using the feature vectors of the papers from the field which you have selected, construct $D$ as a Numpy array. "
   ]
  },
  {
   "cell_type": "code",
   "execution_count": 5,
   "metadata": {},
   "outputs": [
    {
     "data": {
      "text/plain": [
       "(818, 818)"
      ]
     },
     "execution_count": 5,
     "metadata": {},
     "output_type": "execute_result"
    }
   ],
   "source": [
    "distance = np.zeros((features.shape[0], features.shape[0]))\n",
    "\n",
    "for i in range(distance.shape[0]):\n",
    "    for j in range(distance.shape[0]):\n",
    "        distance[i,j] = np.sqrt(np.sum((features[i] - features[j])**2))\n",
    "        \n",
    "distance.shape"
   ]
  },
  {
   "cell_type": "markdown",
   "metadata": {},
   "source": [
    "Check the mean pairwise distance $\\mathbb{E}[D]$."
   ]
  },
  {
   "cell_type": "code",
   "execution_count": 6,
   "metadata": {},
   "outputs": [
    {
     "data": {
      "text/plain": [
       "5.689638434824233"
      ]
     },
     "execution_count": 6,
     "metadata": {},
     "output_type": "execute_result"
    }
   ],
   "source": [
    "mean_distance = distance.mean()\n",
    "mean_distance"
   ]
  },
  {
   "cell_type": "markdown",
   "metadata": {},
   "source": [
    "Plot an histogram of the euclidean distances."
   ]
  },
  {
   "cell_type": "code",
   "execution_count": 7,
   "metadata": {},
   "outputs": [
    {
     "data": {
      "image/png": "[encoded data removed]",
      "text/plain": [
       "<Figure size 576x288 with 1 Axes>"
      ]
     },
     "metadata": {
      "needs_background": "light"
     },
     "output_type": "display_data"
    }
   ],
   "source": [
    "plt.figure(1, figsize=(8, 4))\n",
    "plt.title(\"Histogram of Euclidean distances between papers\")\n",
    "plt.hist(distance.flatten());"
   ]
  },
  {
   "cell_type": "markdown",
   "metadata": {},
   "source": [
    "Now create an adjacency matrix for the papers by thresholding the Euclidean distance matrix.\n",
    "The resulting (unweighted) adjacency matrix should have entries\n",
    "$$ A_{ij} = \\begin{cases} 1, \\; \\text{if} \\; d(i,j)< \\mathbb{E}[D], \\; i \\neq j, \\\\ 0, \\; \\text{otherwise.} \\end{cases} $$\n",
    "\n",
    "First, let us choose the mean distance as the threshold."
   ]
  },
  {
   "cell_type": "code",
   "execution_count": 8,
   "metadata": {},
   "outputs": [],
   "source": [
    "threshold = mean_distance\n",
    "A_feature = (distance < mean_distance).astype(int) - np.eye(distance.shape[0]).astype(int)"
   ]
  },
  {
   "cell_type": "code",
   "execution_count": 9,
   "metadata": {},
   "outputs": [
    {
     "data": {
      "text/plain": [
       "(818, 818)"
      ]
     },
     "execution_count": 9,
     "metadata": {},
     "output_type": "execute_result"
    }
   ],
   "source": [
    "distance.shape"
   ]
  },
  {
   "cell_type": "markdown",
   "metadata": {},
   "source": [
    "Now read the `cora.cites` file and construct the citation graph by converting the given citation connections into an adjacency matrix."
   ]
  },
  {
   "cell_type": "code",
   "execution_count": 10,
   "metadata": {},
   "outputs": [
    {
     "data": {
      "text/plain": [
       "(2708, 2708)"
      ]
     },
     "execution_count": 10,
     "metadata": {},
     "output_type": "execute_result"
    }
   ],
   "source": [
    "cora_cites = np.genfromtxt('data/cora/cora.cites', delimiter='\\t')\n",
    "paper_id_to_ind = dict(zip(pd_content.paper_id.values, range(len(pd_content.paper_id.values))))\n",
    "\n",
    "A_citation = np.zeros((len(paper_id_to_ind), len(paper_id_to_ind))).astype('int')\n",
    "\n",
    "for i,j in cora_cites:\n",
    "    A_citation[paper_id_to_ind[int(j)], paper_id_to_ind[int(i)]] = 1\n",
    "\n",
    "A_citation.shape"
   ]
  },
  {
   "cell_type": "markdown",
   "metadata": {},
   "source": [
    "Get the adjacency matrix of the citation graph for the field that you chose.\n",
    "You have to appropriately reduce the adjacency matrix of the citation graph."
   ]
  },
  {
   "cell_type": "code",
   "execution_count": 11,
   "metadata": {},
   "outputs": [],
   "source": [
    "field_paper_ids = pd_content[pd_content.class_label == my_field].paper_id.values\n",
    "cols = [paper_id_to_ind[paper_id] for paper_id in field_paper_ids]\n",
    "A_citation = A_citation[cols, :][:,cols]"
   ]
  },
  {
   "cell_type": "markdown",
   "metadata": {},
   "source": [
    "Check if your adjacency matrix is symmetric. Symmetrize your final adjacency matrix if it's not already symmetric."
   ]
  },
  {
   "cell_type": "code",
   "execution_count": 12,
   "metadata": {},
   "outputs": [
    {
     "data": {
      "text/plain": [
       "0"
      ]
     },
     "execution_count": 12,
     "metadata": {},
     "output_type": "execute_result"
    }
   ],
   "source": [
    "# Your code here.\n",
    "A_citation = np.maximum(A_citation, A_citation.transpose())\n",
    "\n",
    "np.count_nonzero(A_citation - A_citation.transpose())"
   ]
  },
  {
   "cell_type": "markdown",
   "metadata": {},
   "source": [
    "Check the shape of your adjacency matrix again."
   ]
  },
  {
   "cell_type": "code",
   "execution_count": 13,
   "metadata": {},
   "outputs": [
    {
     "data": {
      "text/plain": [
       "(818, 818)"
      ]
     },
     "execution_count": 13,
     "metadata": {},
     "output_type": "execute_result"
    }
   ],
   "source": [
    "A_citation.shape"
   ]
  },
  {
   "cell_type": "markdown",
   "metadata": {},
   "source": [
    "### Question 2: Degree Distribution and Moments"
   ]
  },
  {
   "cell_type": "markdown",
   "metadata": {},
   "source": [
    "What is the total number of edges in each graph?"
   ]
  },
  {
   "cell_type": "code",
   "execution_count": 14,
   "metadata": {},
   "outputs": [
    {
     "name": "stdout",
     "output_type": "stream",
     "text": [
      "Number of edges in the feature graph: 136771\n",
      "Number of edges in the citation graph: 1175\n"
     ]
    }
   ],
   "source": [
    "num_edges_feature = np.sum(A_feature)//2\n",
    "num_edges_citation = np.sum(A_citation)//2\n",
    "print(f\"Number of edges in the feature graph: {num_edges_feature}\")\n",
    "print(f\"Number of edges in the citation graph: {num_edges_citation}\")"
   ]
  },
  {
   "cell_type": "markdown",
   "metadata": {},
   "source": [
    "Plot the degree distribution histogram for each of the graphs."
   ]
  },
  {
   "cell_type": "code",
   "execution_count": 15,
   "metadata": {},
   "outputs": [
    {
     "data": {
      "image/png": "[encoded data removed]",
      "text/plain": [
       "<Figure size 1152x288 with 2 Axes>"
      ]
     },
     "metadata": {
      "needs_background": "light"
     },
     "output_type": "display_data"
    }
   ],
   "source": [
    "degrees_citation = np.sum(A_citation, axis=1)\n",
    "degrees_feature = np.sum(A_feature, axis=1)\n",
    "\n",
    "deg_hist_normalization = np.ones(degrees_citation.shape[0]) / degrees_citation.shape[0]\n",
    "\n",
    "fig, axes = plt.subplots(1, 2, figsize=(16, 4))\n",
    "axes[0].set_title('Citation graph degree distribution')\n",
    "axes[0].hist(degrees_citation, weights=deg_hist_normalization, bins=100);\n",
    "axes[1].set_title('Feature graph degree distribution')\n",
    "axes[1].hist(degrees_feature, weights=deg_hist_normalization, bins=100);"
   ]
  },
  {
   "cell_type": "markdown",
   "metadata": {},
   "source": [
    "Calculate the first and second moments of the degree distribution of each graph."
   ]
  },
  {
   "cell_type": "code",
   "execution_count": 16,
   "metadata": {},
   "outputs": [
    {
     "name": "stdout",
     "output_type": "stream",
     "text": [
      "1st moment of citation graph: 2.8728606356968216\n",
      "2nd moment of citation graph: 36702.20537897311\n",
      "1st moment of feature graph: 334.4034229828851\n",
      "2nd moment of feature graph: 167201.19804400977\n"
     ]
    }
   ],
   "source": [
    "cit_moment_1 = np.mean(degrees_citation)\n",
    "cit_moment_2 = np.mean(np.square(np.square(degrees_citation)))\n",
    "\n",
    "feat_moment_1 = np.mean(degrees_feature)\n",
    "feat_moment_2 = np.mean(np.square(degrees_feature))\n",
    "\n",
    "print(f\"1st moment of citation graph: {cit_moment_1}\")\n",
    "print(f\"2nd moment of citation graph: {cit_moment_2}\")\n",
    "\n",
    "print(f\"1st moment of feature graph: {feat_moment_1}\")\n",
    "print(f\"2nd moment of feature graph: {feat_moment_2}\")"
   ]
  },
  {
   "cell_type": "markdown",
   "metadata": {},
   "source": [
    "What information do the moments provide you about the graphs?\n",
    "Explain the differences in moments between graphs by comparing their degree distributions."
   ]
  },
  {
   "cell_type": "markdown",
   "metadata": {},
   "source": [
    "**Your answer here:**"
   ]
  },
  {
   "cell_type": "markdown",
   "metadata": {},
   "source": [
    "<div class=\"alert alert-info\">\n",
    "    <b>ANSWER</b> \n",
    "\n",
    "<i>Information:</i>\n",
    "   The information we get about the graph with moments can be whether the graph is in Anomalous Regime (the $1^{st}$ and $2^{nd}$ moments diverge); Scale-Free Regime (the $1^{st}$ moment is the only finite moment, the $2^{nd}$ moment diverges); Random Network Regime ($1^{st}$ and $2^{nd}$ moment are finite).\n",
    "    \n",
    "The $1^{st}$ moment is:\n",
    "    \n",
    "   - the average degree $<k>$\n",
    "   - the mean of the degree distribution (average value).\n",
    "   \n",
    "The $2^{nd}$ moment is: \n",
    "\n",
    "   - $<k^2>$ is related to the variance $\\sigma^2 = <k^2> - <k>^2$\n",
    "   - how much the values spread out. \n",
    "\n",
    "<i>Difference:</i>\n",
    "The feature graph has more edges per node and the degree values are more spread out (very high variance). That we can see also from the result of the feature graph 2nd moment value that is significantly hiher than the one for the citation graph.\n",
    "\n",
    "</div>"
   ]
  },
  {
   "cell_type": "markdown",
   "metadata": {},
   "source": [
    "Select the 20 largest hubs for each of the graphs and remove them. Observe the sparsity pattern of the adjacency matrices of the citation and feature graphs before and after such a reduction."
   ]
  },
  {
   "cell_type": "code",
   "execution_count": 17,
   "metadata": {},
   "outputs": [
    {
     "data": {
      "text/plain": [
       "array([760, 163, 172, 477, 593, 682,  63, 777, 403, 614, 618, 301, 694,\n",
       "       548, 194, 700, 305, 765, 202, 147])"
      ]
     },
     "execution_count": 17,
     "metadata": {},
     "output_type": "execute_result"
    }
   ],
   "source": [
    "feature_hubs = np.argsort(degrees_feature)[-20:]\n",
    "feature_hubs"
   ]
  },
  {
   "cell_type": "code",
   "execution_count": 18,
   "metadata": {},
   "outputs": [],
   "source": [
    "def remove_hub_edges(A, hubs):\n",
    "    A_new = np.copy(A)\n",
    "    for h in hubs:\n",
    "        A_new[h,:] = np.zeros(A_new[h,:].shape)\n",
    "        A_new[:,h] = np.zeros(A_new[:,h].shape)\n",
    "    return A_new"
   ]
  },
  {
   "cell_type": "code",
   "execution_count": 19,
   "metadata": {},
   "outputs": [
    {
     "data": {
      "image/png": "[encoded data removed]",
      "text/plain": [
       "<Figure size 1152x1152 with 4 Axes>"
      ]
     },
     "metadata": {
      "needs_background": "light"
     },
     "output_type": "display_data"
    }
   ],
   "source": [
    "feature_hubs = np.argsort(degrees_feature)[-20:]\n",
    "citation_hubs = np.argsort(degrees_citation)[-20:]\n",
    "\n",
    "reduced_A_feature = remove_hub_edges(A_feature, feature_hubs) #np.delete(np.delete(A_feature, feature_hubs, 0), feature_hubs, 1)\n",
    "reduced_A_citation = remove_hub_edges(A_citation, citation_hubs) #np.delete(np.delete(A_citation, citation_hubs, 0), citation_hubs, 1)\n",
    "\n",
    "fig, axes = plt.subplots(2, 2, figsize=(16, 16))\n",
    "axes[0, 0].set_title('Feature graph: adjacency matrix sparsity pattern')\n",
    "axes[0, 0].spy(A_feature);\n",
    "axes[0, 1].set_title('Feature graph without top 20 hubs: adjacency matrix sparsity pattern')\n",
    "axes[0, 1].spy(reduced_A_feature);\n",
    "axes[1, 0].set_title('Citation graph: adjacency matrix sparsity pattern')\n",
    "axes[1, 0].spy(A_citation);\n",
    "axes[1, 1].set_title('Citation graph without top 20 hubs: adjacency matrix sparsity pattern')\n",
    "axes[1, 1].spy(reduced_A_citation);"
   ]
  },
  {
   "cell_type": "markdown",
   "metadata": {},
   "source": [
    "<div class=\"alert alert-danger\">\n",
    "    <b>NOTE: </b> In the 4 plots above, we leave the hubs (nodes) but remove all the edges that go from them. We wanted to see whether the sparcity of the graph increased.\n",
    "    \n",
    "  In the 4 plots below, we remove the hubs (therefore all the edges that lead to them). \n",
    "  \n",
    "  We can conclude that we see a bit of increase of sparsity in both types of plotting.\n",
    "</div>"
   ]
  },
  {
   "cell_type": "code",
   "execution_count": 20,
   "metadata": {},
   "outputs": [
    {
     "data": {
      "image/png": "[encoded data removed]",
      "text/plain": [
       "<Figure size 1152x1152 with 4 Axes>"
      ]
     },
     "metadata": {
      "needs_background": "light"
     },
     "output_type": "display_data"
    }
   ],
   "source": [
    "feature_hubs = np.argsort(degrees_feature)[-20:]\n",
    "citation_hubs = np.argsort(degrees_citation)[-20:]\n",
    "\n",
    "reduced_A_feature = np.delete(np.delete(A_feature, feature_hubs, 0), feature_hubs, 1)\n",
    "reduced_A_citation = np.delete(np.delete(A_citation, citation_hubs, 0), citation_hubs, 1)\n",
    "\n",
    "fig, axes = plt.subplots(2, 2, figsize=(16, 16))\n",
    "axes[0, 0].set_title('Feature graph: adjacency matrix sparsity pattern')\n",
    "axes[0, 0].spy(A_feature);\n",
    "axes[0, 1].set_title('Feature graph without top 20 hubs: adjacency matrix sparsity pattern')\n",
    "axes[0, 1].spy(reduced_A_feature);\n",
    "axes[1, 0].set_title('Citation graph: adjacency matrix sparsity pattern')\n",
    "axes[1, 0].spy(A_citation);\n",
    "axes[1, 1].set_title('Citation graph without top 20 hubs: adjacency matrix sparsity pattern')\n",
    "axes[1, 1].spy(reduced_A_citation);"
   ]
  },
  {
   "cell_type": "markdown",
   "metadata": {},
   "source": [
    "Plot the new degree distribution histograms."
   ]
  },
  {
   "cell_type": "code",
   "execution_count": 21,
   "metadata": {},
   "outputs": [
    {
     "data": {
      "image/png": "[encoded data removed]",
      "text/plain": [
       "<Figure size 1152x288 with 2 Axes>"
      ]
     },
     "metadata": {
      "needs_background": "light"
     },
     "output_type": "display_data"
    }
   ],
   "source": [
    "reduced_degrees_feat = np.sum(reduced_A_feature, axis=1)\n",
    "reduced_degrees_cit = np.sum(reduced_A_citation, axis=1)\n",
    "\n",
    "deg_hist_normalization = np.ones(reduced_degrees_feat.shape[0])/reduced_degrees_feat.shape[0]\n",
    "\n",
    "fig, axes = plt.subplots(1, 2, figsize=(16, 4))\n",
    "axes[0].set_title('Citation graph degree distribution')\n",
    "axes[0].hist(reduced_degrees_cit, weights=deg_hist_normalization);\n",
    "axes[1].set_title('Feature graph degree distribution')\n",
    "axes[1].hist(reduced_degrees_feat, weights=deg_hist_normalization);"
   ]
  },
  {
   "cell_type": "markdown",
   "metadata": {},
   "source": [
    "Compute the first and second moments for the new graphs."
   ]
  },
  {
   "cell_type": "code",
   "execution_count": 22,
   "metadata": {},
   "outputs": [
    {
     "name": "stdout",
     "output_type": "stream",
     "text": [
      "Citation graph first moment: 1.9724310776942355\n",
      "Citation graph second moment: 6.2706766917293235\n",
      "Feature graph first moment:  302.30827067669173\n",
      "Feature graph second moment:  142170.32581453634\n"
     ]
    }
   ],
   "source": [
    "reduced_cit_moment_1 = np.mean(reduced_degrees_cit)\n",
    "reduced_cit_moment_2 = np.mean(np.square(reduced_degrees_cit))\n",
    "\n",
    "reduced_feat_moment_1 = np.mean(reduced_degrees_feat)\n",
    "reduced_feat_moment_2 = np.mean(np.square(reduced_degrees_feat))\n",
    "\n",
    "print(\"Citation graph first moment:\", reduced_cit_moment_1)\n",
    "print(\"Citation graph second moment:\", reduced_cit_moment_2)\n",
    "print(\"Feature graph first moment: \", reduced_feat_moment_1)\n",
    "print(\"Feature graph second moment: \", reduced_feat_moment_2)"
   ]
  },
  {
   "cell_type": "markdown",
   "metadata": {},
   "source": [
    "Print the number of edges in the reduced graphs."
   ]
  },
  {
   "cell_type": "code",
   "execution_count": 23,
   "metadata": {},
   "outputs": [
    {
     "name": "stdout",
     "output_type": "stream",
     "text": [
      "Number of edges in the feature graph: 120621\n",
      "Number of edges in the citation graph: 787\n"
     ]
    }
   ],
   "source": [
    "# Your code here\n",
    "num_edges_feature = np.sum(reduced_A_feature)//2\n",
    "num_edges_citation = np.sum(reduced_A_citation)//2\n",
    "print(f\"Number of edges in the feature graph: {num_edges_feature}\")\n",
    "print(f\"Number of edges in the citation graph: {num_edges_citation}\")"
   ]
  },
  {
   "cell_type": "markdown",
   "metadata": {},
   "source": [
    "Is the effect of removing the hubs the same for both networks? Look at the percentage changes for each moment. Which of the moments is affected the most and in which graph? Explain why.  \n",
    "\n",
    "**Hint:** Examine the degree distributions."
   ]
  },
  {
   "cell_type": "code",
   "execution_count": 24,
   "metadata": {},
   "outputs": [
    {
     "name": "stdout",
     "output_type": "stream",
     "text": [
      "Percentage change in citation graph first moment: -31.34 %\n",
      "Percentage change in citation graph second moment: -73.61 %\n",
      "Percentage change in feature graph first moment: -9.60 %\n",
      "Percentage change in feature graph second moment: -9.60 %\n"
     ]
    }
   ],
   "source": [
    "# Percentage change:\n",
    "diff_cit_moment_1 = 100 * (reduced_cit_moment_1 - cit_moment_1)/cit_moment_1\n",
    "diff_cit_moment_2 = 100 * (reduced_cit_moment_2 - cit_moment_2)/cit_moment_2\n",
    "diff_feat_moment_1 = 100 * (reduced_feat_moment_1 - feat_moment_1)/feat_moment_1\n",
    "diff_feat_moment_2 = 100 * (reduced_feat_moment_2 - feat_moment_2)/feat_moment_2\n",
    "\n",
    "print(f\"Percentage change in citation graph first moment: {diff_cit_moment_1:.2f} %\")\n",
    "print(f\"Percentage change in citation graph second moment: {diff_cit_moment_2:.2f} %\")\n",
    "print(f\"Percentage change in feature graph first moment: {diff_feat_moment_1:.2f} %\")\n",
    "print(f\"Percentage change in feature graph second moment: {diff_feat_moment_1:.2f} %\")"
   ]
  },
  {
   "cell_type": "markdown",
   "metadata": {},
   "source": [
    "**Your answer here:**"
   ]
  },
  {
   "cell_type": "markdown",
   "metadata": {},
   "source": [
    "<div class=\"alert alert-info\">\n",
    "    <b>ANSWER:</b> Removing the hubs brought a bigger change to the citation graph than the feature graph, affecting mostly the 2nd moment. Removing the few high-degree hubs, removed the outliers and the remaining nodes don't have that much variety in their degrees.\n",
    "</div>"
   ]
  },
  {
   "cell_type": "markdown",
   "metadata": {},
   "source": [
    "### Question 3: Pruning, sparsity, paths"
   ]
  },
  {
   "cell_type": "markdown",
   "metadata": {},
   "source": [
    "By adjusting the threshold of the euclidean distance matrix, prune the feature graph so that its number of edges is roughly close (within a hundred edges) to the number of edges in the citation graph."
   ]
  },
  {
   "cell_type": "code",
   "execution_count": 25,
   "metadata": {},
   "outputs": [],
   "source": [
    "def getPruned (f, d, threshold):\n",
    "    \"\"\" Method to prune the array\n",
    "    \n",
    "    Parameters\n",
    "    ----------\n",
    "    f: np.ndarray\n",
    "        Feature array\n",
    "    d: np.ndarray\n",
    "        Distance array\n",
    "    threshold: float\n",
    "        Bellow which threshold the values will be set to 1\n",
    "    \n",
    "    Returns:\n",
    "    A: np.ndarray\n",
    "        Pruned matrix\n",
    "    \"\"\"\n",
    "    #set only the edges that are below the threshold\n",
    "    A = np.zeros(d.shape)\n",
    "    for x, line1 in enumerate(f) :\n",
    "        for y, line2 in enumerate(f) :\n",
    "            if d[x,y] < threshold and x != y :\n",
    "                A[x,y] = 1\n",
    "    return A\n",
    "\n",
    "\n",
    "def binSearch (target, f, d):\n",
    "    \"\"\" Find pruning threshold that get close to \n",
    "    target edges for feature array f and distance array d\n",
    "    \n",
    "    Parameters\n",
    "    ----------\n",
    "    target: float\n",
    "        Target value\n",
    "    f: np.ndarray\n",
    "        Feature array\n",
    "    d: np.ndarray\n",
    "        Distance array\n",
    "    \n",
    "    Returns\n",
    "    -------\n",
    "    bestt: float\n",
    "        Best value for the threshold for pruning\n",
    "    \"\"\"\n",
    "    mint = 0\n",
    "    maxt = np.max(d)\n",
    "    #break execution if mint and maxt become too close - avoid numerical error hazards\n",
    "    delta = 0.00001\n",
    "    \n",
    "    #best match encountered so far\n",
    "    bestt = -1\n",
    "    bestv = 0.0\n",
    "    \n",
    "    while mint+delta < maxt :\n",
    "        midt = (mint+maxt)/2\n",
    "        A = getPruned(f, d, midt)\n",
    "        \n",
    "        #new best match encountered (edges closer to target)\n",
    "        if bestt == -1 or bestv > abs(np.sum(A) - target) :\n",
    "            bestt = midt\n",
    "            bestv = abs(np.sum(A) - target)\n",
    "        \n",
    "        #current threshold is too high\n",
    "        if np.sum(A) > target + 100 :\n",
    "            maxt = midt\n",
    "        #current threshold is too low\n",
    "        elif np.sum(A) < target - 100 :\n",
    "            mint = midt\n",
    "        #within range\n",
    "        else :\n",
    "            return midt\n",
    "    #return best solution found\n",
    "    return bestt"
   ]
  },
  {
   "cell_type": "code",
   "execution_count": 26,
   "metadata": {},
   "outputs": [
    {
     "name": "stdout",
     "output_type": "stream",
     "text": [
      "Number of edges in the feature graph: 120621\n",
      "Number of edges in the feature graph after pruning: 1386\n",
      "Number of edges in the citation graph: 787\n"
     ]
    }
   ],
   "source": [
    "threshold = binSearch(np.sum(A_citation), features, distance)\n",
    "\n",
    "A_feature_pruned = (distance < threshold).astype(int) - np.eye(distance.shape[0]).astype(int)\n",
    "num_edges_feature_pruned = np.sum(A_feature_pruned)//2\n",
    "\n",
    "print(f\"Number of edges in the feature graph: {num_edges_feature}\")\n",
    "print(f\"Number of edges in the feature graph after pruning: {num_edges_feature_pruned}\")\n",
    "print(f\"Number of edges in the citation graph: {num_edges_citation}\")"
   ]
  },
  {
   "cell_type": "markdown",
   "metadata": {},
   "source": [
    "Check your results by comparing the sparsity patterns and total number of edges between the graphs."
   ]
  },
  {
   "cell_type": "code",
   "execution_count": 27,
   "metadata": {},
   "outputs": [
    {
     "data": {
      "image/png": "[encoded data removed]",
      "text/plain": [
       "<Figure size 864x432 with 2 Axes>"
      ]
     },
     "metadata": {
      "needs_background": "light"
     },
     "output_type": "display_data"
    }
   ],
   "source": [
    "fig, axes = plt.subplots(1, 2, figsize=(12, 6))\n",
    "axes[0].set_title('Citation graph sparsity')\n",
    "axes[0].spy(A_citation);\n",
    "axes[1].set_title('Feature graph sparsity')\n",
    "axes[1].spy(A_feature_pruned);"
   ]
  },
  {
   "cell_type": "markdown",
   "metadata": {},
   "source": [
    "Let $C_{k}(i,j)$ denote the number of paths of length $k$ from node $i$ to node $j$. \n",
    "\n",
    "We define the path matrix $P$, with entries\n",
    "$ P_{ij} = \\displaystyle\\sum_{k=0}^{N}C_{k}(i,j). $"
   ]
  },
  {
   "cell_type": "markdown",
   "metadata": {},
   "source": [
    "Calculate the path matrices for both the citation and the unpruned feature graphs for $N =10$.  \n",
    "\n",
    "**Hint:** Use [powers of the adjacency matrix](https://en.wikipedia.org/wiki/Adjacency_matrix#Matrix_powers)."
   ]
  },
  {
   "cell_type": "code",
   "execution_count": 28,
   "metadata": {},
   "outputs": [],
   "source": [
    "path_matrix_citation = np.sum([np.linalg.matrix_power(A_citation, i).astype(np.uint64) for i in range(11)], axis=0)\n",
    "path_matrix_feature = np.sum([np.linalg.matrix_power(A_feature, i).astype(np.float64) for i in range(11)], axis=0)\n",
    "\n",
    "# uncomment to see a black matrix sparsity (if there was no overflow)\n",
    "# path_matrix_feature -= np.min(path_matrix_feature)"
   ]
  },
  {
   "cell_type": "markdown",
   "metadata": {},
   "source": [
    "Check the sparsity pattern for both of path matrices."
   ]
  },
  {
   "cell_type": "code",
   "execution_count": 29,
   "metadata": {},
   "outputs": [
    {
     "data": {
      "image/png": "[encoded data removed]",
      "text/plain": [
       "<Figure size 1152x648 with 2 Axes>"
      ]
     },
     "metadata": {
      "needs_background": "light"
     },
     "output_type": "display_data"
    }
   ],
   "source": [
    "fig, axes = plt.subplots(1, 2, figsize=(16, 9))\n",
    "axes[0].set_title('Citation Path matrix sparsity')\n",
    "axes[0].spy(path_matrix_citation);\n",
    "axes[1].set_title('Feature Path matrix sparsity')\n",
    "axes[1].spy(path_matrix_feature);"
   ]
  },
  {
   "cell_type": "markdown",
   "metadata": {},
   "source": [
    "#### Now calculate the path matrix of the pruned feature graph for $N=10$. Plot the corresponding sparsity pattern. Is there any difference?"
   ]
  },
  {
   "cell_type": "code",
   "execution_count": 30,
   "metadata": {},
   "outputs": [
    {
     "data": {
      "image/png": "[encoded data removed]",
      "text/plain": [
       "<Figure size 864x432 with 1 Axes>"
      ]
     },
     "metadata": {
      "needs_background": "light"
     },
     "output_type": "display_data"
    }
   ],
   "source": [
    "path_matrix_pruned = np.sum([np.linalg.matrix_power(A_feature_pruned, i).astype(np.uint64) for i in range(11)], axis=0)\n",
    "\n",
    "plt.figure(figsize=(12, 6))\n",
    "plt.title('Feature Path matrix sparsity')\n",
    "plt.spy(path_matrix_pruned);"
   ]
  },
  {
   "cell_type": "markdown",
   "metadata": {},
   "source": [
    "**Your answer here:**"
   ]
  },
  {
   "cell_type": "markdown",
   "metadata": {},
   "source": [
    "<div class=\"alert alert-info\">\n",
    "    <b>ANSWER:</b> The original feature graph is very dense and the power <b>overflows</b>. The minimal element is not zero anymore. It means that the graph is not sparse. \n",
    "    For the pruned graph, the path are significantly fewer, even compared to citations.\n",
    "</div>"
   ]
  },
  {
   "cell_type": "markdown",
   "metadata": {},
   "source": [
    "Describe how you can use the above process of counting paths to determine whether a graph is connected or not. Is the original (unpruned) feature graph connected?"
   ]
  },
  {
   "cell_type": "markdown",
   "metadata": {},
   "source": [
    "**Your answer here:** "
   ]
  },
  {
   "cell_type": "markdown",
   "metadata": {},
   "source": [
    "<div class=\"alert alert-info\">\n",
    "    <b>ANSWER:</b> Starting from the adjacency matrix $A$ and making powers until $N=10$, then the non-zero entries in row $i$ tell all the nodes that are connected to node $i$. If a row in $A^N$ is all non-zero, then the graph is connected. Conversely, if there exists zero row, then the graph is not connected.\n",
    "</div>"
   ]
  },
  {
   "cell_type": "code",
   "execution_count": 31,
   "metadata": {},
   "outputs": [
    {
     "name": "stdout",
     "output_type": "stream",
     "text": [
      "Is the original (unpruned) feature graph connected:  True\n"
     ]
    }
   ],
   "source": [
    "# find if there exists a row with zeros \n",
    "is_graph_connected = not (~path_matrix_feature.any(axis=1)).any()\n",
    "\n",
    "print(\"Is the original (unpruned) feature graph connected: \", is_graph_connected)"
   ]
  },
  {
   "cell_type": "markdown",
   "metadata": {},
   "source": [
    "If the graph is connected, how can you guess its diameter using the path matrix?"
   ]
  },
  {
   "cell_type": "markdown",
   "metadata": {},
   "source": [
    "**Your answer here:**"
   ]
  },
  {
   "cell_type": "markdown",
   "metadata": {},
   "source": [
    "<div class=\"alert alert-info\">\n",
    "    <b>ANSWER:</b> \n",
    "     The graph $k^{th}$ power is then defined as the graph whose adjacency matrix given by the sum of the first k powers of the adjacency matrix,\n",
    "\n",
    "   $adj(G^k)=\\Sigma_{i=1}^k[adj(G)]^i$, which counts all paths of length up to k.\n",
    "   \n",
    "   We compute the path matrix for each k, and if there are no more paths (the sum is equal to zero), we have found the total diameter.\n",
    "   \n",
    "   Raising any graph to the power of its graph diameter gives a complete graph.\n",
    "</div>"
   ]
  },
  {
   "cell_type": "markdown",
   "metadata": {},
   "source": [
    "If any of your graphs is connected, calculate the diameter using that process."
   ]
  },
  {
   "cell_type": "code",
   "execution_count": 32,
   "metadata": {},
   "outputs": [
    {
     "name": "stdout",
     "output_type": "stream",
     "text": [
      "The diameter is: 2\n"
     ]
    }
   ],
   "source": [
    "for i in range(1,11):\n",
    "    if np.sum((np.linalg.matrix_power(A_feature, i) == 0)) == 0:\n",
    "        diameter = i\n",
    "        break\n",
    "    \n",
    "print(f\"The diameter is: {diameter}\")"
   ]
  },
  {
   "cell_type": "markdown",
   "metadata": {},
   "source": [
    "Check if your guess was correct using [NetworkX](https://networkx.github.io/documentation/stable/reference/algorithms/generated/networkx.algorithms.distance_measures.diameter.html).\n",
    "Note: usage of NetworkX is only allowed in this part of Section 1."
   ]
  },
  {
   "cell_type": "code",
   "execution_count": 33,
   "metadata": {},
   "outputs": [
    {
     "name": "stdout",
     "output_type": "stream",
     "text": [
      "Diameter according to networkx: 2\n"
     ]
    }
   ],
   "source": [
    "import networkx as nx\n",
    "feature_graph = nx.from_numpy_matrix(A_feature)\n",
    "print(f\"Diameter according to networkx: {nx.diameter(feature_graph)}\")"
   ]
  },
  {
   "cell_type": "markdown",
   "metadata": {},
   "source": [
    "---"
   ]
  },
  {
   "cell_type": "markdown",
   "metadata": {},
   "source": [
    "## Section 2: Network Models"
   ]
  },
  {
   "cell_type": "markdown",
   "metadata": {},
   "source": [
    "In this section, you will analyze the feature and citation graphs you constructed in the previous section in terms of the network model types.\n",
    "For this purpose, you can use the NetworkX libary imported below."
   ]
  },
  {
   "cell_type": "code",
   "execution_count": 34,
   "metadata": {},
   "outputs": [],
   "source": [
    "import networkx as nx"
   ]
  },
  {
   "cell_type": "markdown",
   "metadata": {},
   "source": [
    "Let us create NetworkX graph objects from the adjacency matrices computed in the previous section."
   ]
  },
  {
   "cell_type": "code",
   "execution_count": 35,
   "metadata": {},
   "outputs": [
    {
     "name": "stdout",
     "output_type": "stream",
     "text": [
      "Number of nodes: 818, Number of edges: 1175\n",
      "Number of self-loops: 0, Number of connected components: 104\n"
     ]
    }
   ],
   "source": [
    "G_citation = nx.from_numpy_matrix(A_citation)\n",
    "print('Number of nodes: {}, Number of edges: {}'. format(G_citation.number_of_nodes(), G_citation.number_of_edges()))\n",
    "print('Number of self-loops: {}, Number of connected components: {}'. format(G_citation.number_of_selfloops(), nx.number_connected_components(G_citation)))"
   ]
  },
  {
   "cell_type": "markdown",
   "metadata": {},
   "source": [
    "In the rest of this assignment, we will consider the pruned feature graph as the feature network."
   ]
  },
  {
   "cell_type": "code",
   "execution_count": 36,
   "metadata": {},
   "outputs": [
    {
     "name": "stdout",
     "output_type": "stream",
     "text": [
      "Number of nodes: 818, Number of edges: 1386\n",
      "Number of self-loops: 0, Number of connected components: 684\n"
     ]
    }
   ],
   "source": [
    "G_feature = nx.from_numpy_matrix(A_feature_pruned)\n",
    "print('Number of nodes: {}, Number of edges: {}'. format(G_feature.number_of_nodes(), G_feature.number_of_edges()))\n",
    "print('Number of self-loops: {}, Number of connected components: {}'. format(G_feature.number_of_selfloops(), nx.number_connected_components(G_feature)))"
   ]
  },
  {
   "cell_type": "markdown",
   "metadata": {},
   "source": [
    "### Question 4: Simulation with Erdős–Rényi and Barabási–Albert models"
   ]
  },
  {
   "cell_type": "markdown",
   "metadata": {},
   "source": [
    "Create an Erdős–Rényi and a Barabási–Albert graph using NetworkX to simulate the citation graph and the feature graph you have. When choosing parameters for the networks, take into account the number of vertices and edges of the original networks."
   ]
  },
  {
   "cell_type": "markdown",
   "metadata": {},
   "source": [
    "The number of nodes should exactly match the number of nodes in the original citation and feature graphs."
   ]
  },
  {
   "cell_type": "code",
   "execution_count": 37,
   "metadata": {},
   "outputs": [
    {
     "data": {
      "text/plain": [
       "818"
      ]
     },
     "execution_count": 37,
     "metadata": {},
     "output_type": "execute_result"
    }
   ],
   "source": [
    "assert len(G_citation.nodes()) == len(G_feature.nodes())\n",
    "n = len(G_citation.nodes())\n",
    "n"
   ]
  },
  {
   "cell_type": "markdown",
   "metadata": {},
   "source": [
    "The number of match shall fit the average of the number of edges in the citation and the feature graph."
   ]
  },
  {
   "cell_type": "code",
   "execution_count": 38,
   "metadata": {},
   "outputs": [
    {
     "data": {
      "text/plain": [
       "1280.0"
      ]
     },
     "execution_count": 38,
     "metadata": {},
     "output_type": "execute_result"
    }
   ],
   "source": [
    "m = np.round((G_citation.size() + G_feature.size()) / 2)\n",
    "m"
   ]
  },
  {
   "cell_type": "markdown",
   "metadata": {},
   "source": [
    "How do you determine the probability parameter for the Erdős–Rényi graph?"
   ]
  },
  {
   "cell_type": "markdown",
   "metadata": {},
   "source": [
    "**Your answer here:**"
   ]
  },
  {
   "cell_type": "markdown",
   "metadata": {},
   "source": [
    "<div class=\"alert alert-info\">\n",
    "    <b>ANSWER:</b> We determine the probability for Erdős–Rényi graph using the following equation to estimate our $p$ (from the slide number 9 in Random Networks). \n",
    "    <br/>\n",
    "    $$<k> = \\frac{2 <L>}{N} = p(N - 1)  \\implies p = \\frac{<k>}{N - 1} $$ \n",
    "    \n",
    "where:\n",
    "- $p$ is the probability that each edge is included in the graph independent from every other edge\n",
    "- $N$ is number of nodes\n",
    "- $<k>$ is an average degree of the node in the graph\n",
    "- $<L>$ is expected number of links in the random graph\n",
    "\n",
    "<br/>\n",
    "This p is calculated based on the citation graph and used as a parameter in the Erdős–Rényi graph. From the code below we see that the probability of connectiong with all nodes is <b>0.0035</b>. The number of edges in the ER graph is <b>~1177</b>. We can say it is preatty close to our parameter $m$ defined in the cell above.\n",
    "</div>"
   ]
  },
  {
   "cell_type": "code",
   "execution_count": 39,
   "metadata": {},
   "outputs": [
    {
     "name": "stdout",
     "output_type": "stream",
     "text": [
      "Probability of connecting to all nodes: 0.0035163532872666114\n"
     ]
    }
   ],
   "source": [
    "p = np.average([x[1] for x in list(G_citation.degree)])/(n-1) \n",
    "print(f\"Probability of connecting to all nodes: {p}\")\n",
    "G_er = nx.erdos_renyi_graph(n, p)"
   ]
  },
  {
   "cell_type": "markdown",
   "metadata": {},
   "source": [
    "Check the number of edges in the Erdős–Rényi graph."
   ]
  },
  {
   "cell_type": "code",
   "execution_count": 40,
   "metadata": {},
   "outputs": [
    {
     "name": "stdout",
     "output_type": "stream",
     "text": [
      "My Erdos-Rényi network that simulates the citation graph has 1170 edges.\n"
     ]
    }
   ],
   "source": [
    "print('My Erdos-Rényi network that simulates the citation graph has {} edges.'.format(G_er.size()))"
   ]
  },
  {
   "cell_type": "markdown",
   "metadata": {},
   "source": [
    "How do you determine the preferential attachment parameter for Barabási–Albert graphs?"
   ]
  },
  {
   "cell_type": "markdown",
   "metadata": {},
   "source": [
    "**Your answer here:**"
   ]
  },
  {
   "cell_type": "markdown",
   "metadata": {},
   "source": [
    "<div class=\"alert alert-info\">\n",
    "    <b>ANSWER:</b> The attachment parameter $q$ in Barabási–Albert (BA) graph we determine by getting the average degree in Citation graph and use it in this graph. We use the following equation:\n",
    "   $$ \n",
    "   q = round(<k> / 2) \n",
    "   $$\n",
    "   \n",
    "where:\n",
    "- $q$ is the number of edges to attach from a new node to existing nodes\n",
    "- $<k>$ is an average degree of the node in the graph\n",
    "     \n",
    "We divide by 2 since we discard the edges counted twice as in directed graph.\n",
    "We can see that every node has a <b>1</b> new edges in BA graph. The number of edges in total in the BA graph is <b>~817</b>.\n",
    "</div>"
   ]
  },
  {
   "cell_type": "code",
   "execution_count": 41,
   "metadata": {},
   "outputs": [
    {
     "name": "stdout",
     "output_type": "stream",
     "text": [
      "Number of edges to attach from a new node: 1\n"
     ]
    }
   ],
   "source": [
    "q = int(np.round(np.average([x[1] for x in list(G_citation.degree)])/2)) # Your code here.\n",
    "print(f\"Number of edges to attach from a new node: {q}\")\n",
    "G_ba = nx.barabasi_albert_graph(n, q)"
   ]
  },
  {
   "cell_type": "markdown",
   "metadata": {},
   "source": [
    "Check the number of edges in the Barabási–Albert graph."
   ]
  },
  {
   "cell_type": "code",
   "execution_count": 42,
   "metadata": {},
   "outputs": [
    {
     "name": "stdout",
     "output_type": "stream",
     "text": [
      "My Barabási-Albert network that simulates the citation graph has 817 edges.\n"
     ]
    }
   ],
   "source": [
    "print('My Barabási-Albert network that simulates the citation graph has {} edges.'.format(G_ba.size()))"
   ]
  },
  {
   "cell_type": "markdown",
   "metadata": {},
   "source": [
    "### Question 5: Giant Component"
   ]
  },
  {
   "cell_type": "markdown",
   "metadata": {},
   "source": [
    "Check the size of the largest connected component in the citation and feature graphs."
   ]
  },
  {
   "cell_type": "code",
   "execution_count": 43,
   "metadata": {},
   "outputs": [
    {
     "name": "stdout",
     "output_type": "stream",
     "text": [
      "The giant component of the citation graph has 636 nodes and 1079 edges.\n"
     ]
    }
   ],
   "source": [
    "giant_citation = max(nx.connected_component_subgraphs(G_citation), key=len)  # Your code here.\n",
    "print('The giant component of the citation graph has {} nodes and {} edges.'.format(giant_citation.number_of_nodes(), giant_citation.size()))"
   ]
  },
  {
   "cell_type": "code",
   "execution_count": 44,
   "metadata": {},
   "outputs": [
    {
     "name": "stdout",
     "output_type": "stream",
     "text": [
      "The giant component of the feature graph has 117 nodes and 1364 edges.\n"
     ]
    }
   ],
   "source": [
    "giant_feature = max(nx.connected_component_subgraphs(G_feature), key=len)  # Your code here.\n",
    "print('The giant component of the feature graph has {} nodes and {} edges.'.format(giant_feature.number_of_nodes(), giant_feature.size()))"
   ]
  },
  {
   "cell_type": "markdown",
   "metadata": {},
   "source": [
    "Check the size of the giant components in the generated Erdős–Rényi graph."
   ]
  },
  {
   "cell_type": "code",
   "execution_count": 45,
   "metadata": {
    "scrolled": true
   },
   "outputs": [
    {
     "name": "stdout",
     "output_type": "stream",
     "text": [
      "The giant component of the Erdos-Rényi network has 757 nodes and 1166 edges.\n"
     ]
    }
   ],
   "source": [
    "giant_er = max(nx.connected_component_subgraphs(G_er), key=len)  # Your code here.\n",
    "print('The giant component of the Erdos-Rényi network has {} nodes and {} edges.'.format(giant_er.number_of_nodes(), giant_er.size()))"
   ]
  },
  {
   "cell_type": "markdown",
   "metadata": {},
   "source": [
    "Let us match the number of nodes in the giant component of the feature graph by simulating a new Erdős–Rényi network.\n",
    "How do you choose the probability parameter this time? \n",
    "\n",
    "**Hint:** Recall the expected giant component size from the lectures."
   ]
  },
  {
   "cell_type": "markdown",
   "metadata": {},
   "source": [
    "**Your answer here:**"
   ]
  },
  {
   "cell_type": "markdown",
   "metadata": {},
   "source": [
    "<div class=\"alert alert-info\">\n",
    "    <b>ANSWER:</b> This time we use probability calculated using the threshold specified on the slide 31 in Random Network lecture. \n",
    "    $$p > \\frac{ln(N)}{N} $$\n",
    "\n",
    "<br/>\n",
    "We use this threshold value of $p$ after which most nodes are part of GC. We increase it slightly with 0.001 to pass a threshold. The probability of connecting to every node is <b>0.0092</b> which is a bit higher than the previously calculated probability where we didn't consider GC. Now the new RE graph has <b>~2740</b>\n",
    "</div>"
   ]
  },
  {
   "cell_type": "code",
   "execution_count": 46,
   "metadata": {},
   "outputs": [
    {
     "name": "stdout",
     "output_type": "stream",
     "text": [
      "New value of the probability in ER graph: 0.009199098211005802\n"
     ]
    }
   ],
   "source": [
    "# pg. 16/26 in Random Networks\n",
    "p_new = np.log(n)/n + 0.001 \n",
    "print(f\"New value of the probability in ER graph: {p_new}\")\n",
    "G_er_new = nx.erdos_renyi_graph(n, p_new)"
   ]
  },
  {
   "cell_type": "markdown",
   "metadata": {},
   "source": [
    "Check the size of the new Erdős–Rényi network and its giant component."
   ]
  },
  {
   "cell_type": "code",
   "execution_count": 47,
   "metadata": {},
   "outputs": [
    {
     "name": "stdout",
     "output_type": "stream",
     "text": [
      "My new Erdos Renyi network that simulates the citation graph has 3078 edges.\n",
      "The giant component of the new Erdos-Rényi network has 818 nodes and 3078 edges.\n"
     ]
    }
   ],
   "source": [
    "print('My new Erdos Renyi network that simulates the citation graph has {} edges.'.format(G_er_new.size()))\n",
    "giant_er_new = max(nx.connected_component_subgraphs(G_er_new), key=len) # Your code here.\n",
    "print('The giant component of the new Erdos-Rényi network has {} nodes and {} edges.'.format(giant_er_new.number_of_nodes(), giant_er_new.size()))"
   ]
  },
  {
   "cell_type": "markdown",
   "metadata": {},
   "source": [
    "### Question 6: Degree Distributions"
   ]
  },
  {
   "cell_type": "markdown",
   "metadata": {},
   "source": [
    "Recall the degree distribution of the citation and the feature graph."
   ]
  },
  {
   "cell_type": "code",
   "execution_count": 48,
   "metadata": {},
   "outputs": [
    {
     "data": {
      "image/png": "[encoded data removed]",
      "text/plain": [
       "<Figure size 1080x432 with 2 Axes>"
      ]
     },
     "metadata": {},
     "output_type": "display_data"
    }
   ],
   "source": [
    "fig, axes = plt.subplots(1, 2, figsize=(15, 6))\n",
    "axes[0].set_title('Citation graph')\n",
    "citation_degrees = [x[1] for x in list(G_citation.degree)] # Your code here. # Your code here.\n",
    "axes[0].hist(citation_degrees, bins=150);\n",
    "axes[1].set_title('Feature graph')\n",
    "feature_degrees = [x[1] for x in list(G_feature.degree)]  # Your code here.\n",
    "axes[1].hist(feature_degrees, bins=100);"
   ]
  },
  {
   "cell_type": "markdown",
   "metadata": {},
   "source": [
    "What does the degree distribution tell us about a network? Can you make a prediction on the network model type of the citation and the feature graph by looking at their degree distributions?"
   ]
  },
  {
   "cell_type": "markdown",
   "metadata": {},
   "source": [
    "**Your answer here:**"
   ]
  },
  {
   "cell_type": "markdown",
   "metadata": {},
   "source": [
    "<div class=\"alert alert-info\">\n",
    "    <b>ANSWER:</b> \n",
    "    The degree distribution tell us probability distribution of degrees of all the nodes in the network. It can help us predict the network model as well.\n",
    "\n",
    "Prediction on the network model type (e.g. random graph, ER, BA, WS, etc.) is possible. For example, the random graph has a Poisson distribution of degrees. Most networks in the real world have a very different distribution, highly right-skewed.\n",
    "\n",
    "We can see that the **Citation graph** has a Poisson distribution (with low value of $\\lambda$). Therefore, we can say that the Citation graph has probably network model of random graph.\n",
    "</div>"
   ]
  },
  {
   "cell_type": "markdown",
   "metadata": {},
   "source": [
    "Now, plot the degree distribution historgrams for the simulated networks."
   ]
  },
  {
   "cell_type": "code",
   "execution_count": 49,
   "metadata": {},
   "outputs": [
    {
     "data": {
      "image/png": "[encoded data removed]",
      "text/plain": [
       "<Figure size 1440x432 with 3 Axes>"
      ]
     },
     "metadata": {},
     "output_type": "display_data"
    }
   ],
   "source": [
    "fig, axes = plt.subplots(1, 3, figsize=(20, 6))\n",
    "axes[0].set_title('Erdos-Rényi network')\n",
    "er_degrees = [x[1] for x in list(G_er.degree)]  # Your code here.\n",
    "axes[0].hist(er_degrees, bins=40); \n",
    "\n",
    "axes[1].set_title('Barabási-Albert network')\n",
    "ba_degrees = [x[1] for x in list(G_ba.degree)] # Your code here.\n",
    "axes[1].hist(ba_degrees, bins=70);\n",
    "\n",
    "axes[2].set_title('new Erdos-Rényi network')\n",
    "er_new_degrees = [x[1] for x in list(G_er_new.degree)] # Your code here.\n",
    "axes[2].hist(er_new_degrees, bins=40); "
   ]
  },
  {
   "cell_type": "markdown",
   "metadata": {},
   "source": [
    "In terms of the degree distribution, is there a good match between the citation and feature graphs and the simulated networks?\n",
    "For the citation graph, choose one of the simulated networks above that match its degree distribution best. Indicate your preference below."
   ]
  },
  {
   "cell_type": "markdown",
   "metadata": {},
   "source": [
    "**Your answer here:** "
   ]
  },
  {
   "cell_type": "markdown",
   "metadata": {},
   "source": [
    "<div class=\"alert alert-info\">\n",
    "    <b>ANSWER:</b> \n",
    "ER model is algorithm for creating random graph (Poisson).\n",
    "BA model is algorithm for creating random scale-free networks (Power law). \n",
    "    \n",
    "The Citation graph matches mostly the ER network plot of degree distribution (random graphs).\n",
    "The Feature graph matches mostry the BA network plot of degree distribution (follow the power law distribution).\n",
    "    \n",
    "For the **Citation graph**, the simulated network above that matches its degree distribution the best is the first plot (ER network). That makes sence since we saw that Citation graph is a random graph and ER model is creating a random graph.\n",
    "</div>"
   ]
  },
  {
   "cell_type": "markdown",
   "metadata": {},
   "source": [
    "You can also simulate a network using the configuration model to match its degree disctribution exactly. Refer to [Configuration model](https://networkx.github.io/documentation/stable/reference/generated/networkx.generators.degree_seq.configuration_model.html#networkx.generators.degree_seq.configuration_model).\n",
    "\n",
    "Let us create another network to match the degree distribution of the feature graph. "
   ]
  },
  {
   "cell_type": "code",
   "execution_count": 50,
   "metadata": {},
   "outputs": [
    {
     "name": "stdout",
     "output_type": "stream",
     "text": [
      "Configuration model has 818 nodes and 1386 edges.\n"
     ]
    }
   ],
   "source": [
    "G_config = nx.configuration_model(feature_degrees) \n",
    "print('Configuration model has {} nodes and {} edges.'.format(G_config.number_of_nodes(), G_config.size()))"
   ]
  },
  {
   "cell_type": "markdown",
   "metadata": {},
   "source": [
    "Does it mean that we create the same graph with the feature graph by the configuration model? If not, how do you understand that they are not the same?"
   ]
  },
  {
   "cell_type": "markdown",
   "metadata": {},
   "source": [
    "**Your answer here:** "
   ]
  },
  {
   "cell_type": "markdown",
   "metadata": {},
   "source": [
    "<div class=\"alert alert-info\">\n",
    "    <b>ANSWER:</b> No, it doesn't. From the definition of the configuration model we see that it generates a random pseudograph (graph with parallel edges and self loops) by randomly assigning edges to match the given degree sequence.\n",
    "    \n",
    "  For example, let us have one node N1 with degree 10 and second node with degree 5. In the original graph, these two nodes could be connected, however in this configuration model graph, they may not be connected (since it is decided randomly).\n",
    "</div>"
   ]
  },
  {
   "cell_type": "markdown",
   "metadata": {},
   "source": [
    "### Question 7: Clustering Coefficient"
   ]
  },
  {
   "cell_type": "markdown",
   "metadata": {},
   "source": [
    "Let us check the average clustering coefficient of the original citation and feature graphs. "
   ]
  },
  {
   "cell_type": "code",
   "execution_count": 51,
   "metadata": {},
   "outputs": [
    {
     "data": {
      "text/plain": [
       "0.21693567980632222"
      ]
     },
     "execution_count": 51,
     "metadata": {},
     "output_type": "execute_result"
    }
   ],
   "source": [
    "nx.average_clustering(G_citation)"
   ]
  },
  {
   "cell_type": "code",
   "execution_count": 52,
   "metadata": {},
   "outputs": [
    {
     "data": {
      "text/plain": [
       "0.1220744470334593"
      ]
     },
     "execution_count": 52,
     "metadata": {},
     "output_type": "execute_result"
    }
   ],
   "source": [
    "nx.average_clustering(G_feature)"
   ]
  },
  {
   "cell_type": "markdown",
   "metadata": {},
   "source": [
    "What does the clustering coefficient tell us about a network? Comment on the values you obtain for the citation and feature graph."
   ]
  },
  {
   "cell_type": "markdown",
   "metadata": {},
   "source": [
    "**Your answer here:**"
   ]
  },
  {
   "cell_type": "markdown",
   "metadata": {},
   "source": [
    "<div class=\"alert alert-info\">\n",
    "    <b>ANSWER:</b> Clustering coefficient tell us about the fraction of the node's neighbors that are connected. It represents the probability that 2 neighbors of a node lint to each other.\n",
    "    \n",
    "From values of the citation and feature graph clustering coefficient we can see that the neighbors of the citation graph node are more connected than the neighbors of a node in feature graph. \n",
    "</div>"
   ]
  },
  {
   "cell_type": "markdown",
   "metadata": {},
   "source": [
    "Now, let us check the average clustering coefficient for the simulated networks."
   ]
  },
  {
   "cell_type": "code",
   "execution_count": 53,
   "metadata": {},
   "outputs": [
    {
     "data": {
      "text/plain": [
       "0.0021626499010362096"
      ]
     },
     "execution_count": 53,
     "metadata": {},
     "output_type": "execute_result"
    }
   ],
   "source": [
    "nx.average_clustering(G_er)"
   ]
  },
  {
   "cell_type": "code",
   "execution_count": 54,
   "metadata": {},
   "outputs": [
    {
     "data": {
      "text/plain": [
       "0.0"
      ]
     },
     "execution_count": 54,
     "metadata": {},
     "output_type": "execute_result"
    }
   ],
   "source": [
    "nx.average_clustering(G_ba)"
   ]
  },
  {
   "cell_type": "code",
   "execution_count": 55,
   "metadata": {},
   "outputs": [
    {
     "data": {
      "text/plain": [
       "0.05609457715551886"
      ]
     },
     "execution_count": 55,
     "metadata": {},
     "output_type": "execute_result"
    }
   ],
   "source": [
    "nx.average_clustering(nx.Graph(G_config))"
   ]
  },
  {
   "cell_type": "markdown",
   "metadata": {},
   "source": [
    "Comment on the values you obtain for the simulated networks. Is there any good match to the citation or feature graph in terms of clustering coefficient?"
   ]
  },
  {
   "cell_type": "markdown",
   "metadata": {},
   "source": [
    "**Your answer here:**"
   ]
  },
  {
   "cell_type": "markdown",
   "metadata": {},
   "source": [
    "<div class=\"alert alert-info\">\n",
    "    <b>ANSWER:</b> From the clustering coefficient values of simulated networks we can see that they have a lower clustering probability than the original graphs. Therefore, the neighbors of a node in original graph have higher probability of being connected than the ones in sumulated network. \n",
    "</div>"
   ]
  },
  {
   "cell_type": "markdown",
   "metadata": {},
   "source": [
    "Check the other [network model generators](https://networkx.github.io/documentation/networkx-1.10/reference/generators.html) provided by NetworkX. Which one do you predict to have a better match to the citation graph or the feature graph in terms of degree distribution and clustering coefficient at the same time? Justify your answer."
   ]
  },
  {
   "cell_type": "markdown",
   "metadata": {},
   "source": [
    "**Your answer here:**"
   ]
  },
  {
   "cell_type": "markdown",
   "metadata": {},
   "source": [
    "<div class=\"alert alert-info\">\n",
    "    <b>ANSWER</b> \n",
    "    Citation graph: Poisson distribution, random graph, cc=0.22\n",
    "    Feature graph: Power law, scale free, cc=0.12\n",
    "    \n",
    "For a citation graph, we estimate the best match in degree distribution and clustering coefficient would be \n",
    "<a href=\"https://networkx.github.io/documentation/networkx-1.10/reference/generators.html#module-networkx.generators.geometric\">geometric graph</a>. The random geometric graph model n nodes uniformly at random in the unit cube. Two nodes are joined by an edge if the Euclidean distance between the nodes is at most radius. We choose the best radius to match the results we got above.\n",
    "\n",
    "For the feature graph, we estimate the best match in degree distribution and clustering coefficient would be <a href=\"https://networkx.github.io/documentation/networkx-1.10/reference/generators.html#module-networkx.generators.random_graphs\"> powerlaw cluster graph</a>. This is algorithm for growing graphs with powerlaw degree distribution and approximate average clustering, which is the case we need.\n",
    "\n",
    "</div>"
   ]
  },
  {
   "cell_type": "markdown",
   "metadata": {},
   "source": [
    "If you find a better fit, create a graph object below for that network model. Print the number of edges and the average clustering coefficient. Plot the histogram of the degree distribution."
   ]
  },
  {
   "cell_type": "markdown",
   "metadata": {},
   "source": [
    "##### Geometric Graph"
   ]
  },
  {
   "cell_type": "code",
   "execution_count": 56,
   "metadata": {
    "scrolled": true
   },
   "outputs": [
    {
     "data": {
      "text/plain": [
       "(864, 0.3709861450692746)"
      ]
     },
     "execution_count": 56,
     "metadata": {},
     "output_type": "execute_result"
    }
   ],
   "source": [
    "G_geo = nx.random_geometric_graph(n, 0.028)\n",
    "G_geo.size(), nx.average_clustering(G_geo)"
   ]
  },
  {
   "cell_type": "code",
   "execution_count": 57,
   "metadata": {},
   "outputs": [
    {
     "data": {
      "image/png": "[encoded data removed]",
      "text/plain": [
       "<Figure size 1080x432 with 1 Axes>"
      ]
     },
     "metadata": {},
     "output_type": "display_data"
    }
   ],
   "source": [
    "fig, axes = plt.subplots(1, 1, figsize=(15, 6))\n",
    "axes.set_title('Geometric graph')\n",
    "geo_degrees = [x[1] for x in list(G_geo.degree)]\n",
    "axes.hist(geo_degrees, bins=50);"
   ]
  },
  {
   "cell_type": "markdown",
   "metadata": {},
   "source": [
    "##### Powerlaw Cluster Graph"
   ]
  },
  {
   "cell_type": "code",
   "execution_count": 58,
   "metadata": {},
   "outputs": [
    {
     "data": {
      "text/plain": [
       "(817, 0.0)"
      ]
     },
     "execution_count": 58,
     "metadata": {},
     "output_type": "execute_result"
    }
   ],
   "source": [
    "# or another q, average degree of G_feature: prob = int(round(np.average([x[1] for x in list(G_feature.degree)])))\n",
    "G_pow = nx.powerlaw_cluster_graph(n, q, 0.122)\n",
    "G_pow.size(), nx.average_clustering(G_pow)"
   ]
  },
  {
   "cell_type": "code",
   "execution_count": 59,
   "metadata": {},
   "outputs": [
    {
     "data": {
      "image/png": "[encoded data removed]",
      "text/plain": [
       "<Figure size 1080x432 with 1 Axes>"
      ]
     },
     "metadata": {},
     "output_type": "display_data"
    }
   ],
   "source": [
    "fig, axes = plt.subplots(1, 1, figsize=(15, 6))\n",
    "axes.set_title('Power law graph')\n",
    "power_degress = [x[1] for x in list(G_pow.degree)]\n",
    "axes.hist(power_degress, bins=70);"
   ]
  },
  {
   "cell_type": "markdown",
   "metadata": {},
   "source": [
    "Comment on the similarities of your match."
   ]
  },
  {
   "cell_type": "markdown",
   "metadata": {},
   "source": [
    "**Your answer here:**"
   ]
  },
  {
   "cell_type": "markdown",
   "metadata": {},
   "source": [
    "<div class=\"alert alert-info\">\n",
    "    <b>ANSWER:</b>\n",
    "From the two histograms above representing the degree distributions, we can see that the geometric graph nicely matches the original Citation graph. Also, the clustering coefficient seems much closer than the ones we got in ER and BA graphs.\n",
    "    \n",
    "On the other hand, we hace the Feature graph. The histogram of degree distribution of powerlaw clustering graph nicely matches the degree distribution of the original one. However, we get the clustering coefficient is not matched. From this we can conclude that BA graph was good enough representation of the original Feature graph.\n",
    "</div>"
   ]
  }
 ],
 "metadata": {
  "anaconda-cloud": {},
  "kernelspec": {
   "display_name": "Python 3",
   "language": "python",
   "name": "python3"
  },
  "language_info": {
   "codemirror_mode": {
    "name": "ipython",
    "version": 3
   },
   "file_extension": ".py",
   "mimetype": "text/x-python",
   "name": "python",
   "nbconvert_exporter": "python",
   "pygments_lexer": "ipython3",
   "version": "3.6.8"
  }
 },
 "nbformat": 4,
 "nbformat_minor": 4
}
